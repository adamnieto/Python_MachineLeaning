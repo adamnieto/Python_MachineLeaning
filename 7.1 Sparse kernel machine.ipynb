{
 "cells": [
  {
   "cell_type": "markdown",
   "metadata": {},
   "source": [
    "## PRML 7.1 Sparse kernel machine"
   ]
  },
  {
   "cell_type": "markdown",
   "metadata": {},
   "source": [
    "# Overview"
   ]
  },
  {
   "cell_type": "markdown",
   "metadata": {},
   "source": [
    "Example of synthetic data from two classes in two dimensions showing countours of constant $y({\\bf x})$ obtained from a suport vector machine having a Gaussian kernel function. Also shown are the descion boudary the margin boundaries, and support vectors."
   ]
  },
  {
   "cell_type": "markdown",
   "metadata": {},
   "source": [
    "## Procedure"
   ]
  },
  {
   "cell_type": "markdown",
   "metadata": {},
   "source": [
    "①All data points should satisfy the constraints (7.5)\n",
    "\n",
    "\n",
    "②In order to solve constrained optimization problem, Laggrange multipliers $a_n > 0$ is introdued for each of the contrainets in (7.5), giving the Lagurangian function (7.10)\n",
    "\n",
    "\\begin{equation*}\n",
    "\\tilde{L}(a) = \\sum_{n=1}^N a_n - \\frac{1}{2} \\sum_{n=1}^N \\sum_{m=1}^N  a_na_m t_n t_m k({\\bf x_n}, {\\bf x_m})    (7.10)\n",
    "\\end{equation*}\n",
    "\n",
    "②Only support vectors wihch satisfies the KTT condition determin decision boundary. \n",
    "\n",
    "③Obtain $b$ (7.18) using support vectors extracted from KTT conditioin.\n",
    "\n",
    "④substitute $a_n$, $t_n$,"
   ]
  },
  {
   "cell_type": "code",
   "execution_count": 1,
   "metadata": {
    "collapsed": true
   },
   "outputs": [],
   "source": [
    "import math\n",
    "import matplotlib.pyplot as plt\n",
    "from pylab import *\n",
    "import numpy as np\n",
    "import random\n",
    "import cvxopt\n",
    "from cvxopt import matrix, solvers\n",
    "%matplotlib inline"
   ]
  },
  {
   "cell_type": "code",
   "execution_count": 2,
   "metadata": {
    "collapsed": false
   },
   "outputs": [],
   "source": [
    "def kernel(x, y):\n",
    "    sigma = 5.0\n",
    "    return np.exp(-norm(x-y)**2 / (2 * (sigma ** 2)))\n",
    "\n",
    "#(7.10)' (Quadratic Programming)\n",
    "def L(t, X, N):\n",
    "    K = np.zeros((N, N))\n",
    "    for i in range(N):\n",
    "        for j in range(N):\n",
    "            K[i, j] = t[i] * t[j] * kernel(X[i], X[j])\n",
    "    Q = matrix(K)\n",
    "    p = matrix(-1 * np.ones(N))             \n",
    "    G = matrix(np.diag([-1.0]*N))       \n",
    "    h = matrix(np.zeros(N))             \n",
    "    A = matrix(t, (1,N))                \n",
    "    b = matrix(0.0)                     \n",
    "    sol = solvers.qp(Q, p, G, h, A, b)\n",
    "    a = array(sol['x']).reshape(N)\n",
    "    return a\n",
    "\n",
    "#(7.13)\n",
    "def y_x(a, t, X, N, b, x):\n",
    "    sum = 0\n",
    "    for n in range(N):\n",
    "        sum += a[n] * t[n] * kernel(x, X[n])\n",
    "    return sum + b\n",
    "\n",
    "#(7.18)\n",
    "def b(a, t, X, S):\n",
    "    sum_A = 0\n",
    "    for n in S:\n",
    "        sum_B = 0\n",
    "        for m in S:\n",
    "            sum_B += a[m] * t[m] * kernel(X[n], X[m])\n",
    "        sum_A += (t[n] - sum_B)\n",
    "    return sum_A/len(S)"
   ]
  },
  {
   "cell_type": "code",
   "execution_count": 3,
   "metadata": {
    "collapsed": false
   },
   "outputs": [
    {
     "name": "stdout",
     "output_type": "stream",
     "text": [
      "     pcost       dcost       gap    pres   dres\n",
      " 0: -2.0878e+01 -5.5099e+01  9e+01  7e+00  2e+00\n",
      " 1: -5.1770e+01 -8.2323e+01  5e+01  3e+00  1e+00\n",
      " 2: -1.4788e+02 -1.8641e+02  5e+01  3e+00  9e-01\n",
      " 3: -6.0146e+02 -7.5039e+02  2e+02  3e+00  9e-01\n",
      " 4: -1.0594e+03 -1.3062e+03  3e+02  1e+00  5e-01\n",
      " 5: -1.1672e+03 -1.2433e+03  8e+01  3e-01  9e-02\n",
      " 6: -1.1685e+03 -1.1732e+03  5e+00  2e-02  5e-03\n",
      " 7: -1.1682e+03 -1.1695e+03  1e+00  3e-03  9e-04\n",
      " 8: -1.1685e+03 -1.1685e+03  1e-02  3e-05  1e-05\n",
      " 9: -1.1685e+03 -1.1685e+03  1e-04  3e-07  1e-07\n",
      "10: -1.1685e+03 -1.1685e+03  1e-06  3e-09  1e-09\n",
      "Optimal solution found.\n"
     ]
    },
    {
     "data": {
      "image/png": "[encoded data removed]",
      "text/plain": [
       "<matplotlib.figure.Figure at 0x10f11a910>"
      ]
     },
     "metadata": {},
     "output_type": "display_data"
    }
   ],
   "source": [
    "if __name__ == \"__main__\":\n",
    "    N = 36\n",
    "    mu_blue = [1,-1]\n",
    "    cov = [[0.1,0.05], [0.05,0.1]]\n",
    "    \n",
    "    x_blue,y_blue = np.random.multivariate_normal(mu_blue, cov, N/2).T\n",
    "    \n",
    "    x_red = [0.3, 0.8, 0.9, 0.95, 1.1, 1.3, 1.6, 1.9, 1.75, 1.8, 2.0, 2.1, 2.3, 2.25, 2.4, 2.7, 3.0, 3.2]\n",
    "    y_red = [-0.2, 0.1, 0.25, 0.14, -0.1, 1.6, 1.2, 0.6, 0.8, -0.6, -0.8, -0.75, 1.2, -1.15, -0.12, -0.3, -0.4, 1.4]\n",
    "    \n",
    "    t_blue = np.ones((1, N/2))\n",
    "    t_red = -1*np.ones((1, N/2))\n",
    "\n",
    "    blue = vstack((x_blue, y_blue))\n",
    "    red = vstack((x_red, y_red))\n",
    "\n",
    "    X = np.concatenate((blue, red), axis=1).T\n",
    "    t = np.concatenate((t_blue, t_red), axis=1).T\n",
    "    \n",
    "    #(7.10)' (Quadratic Programming)\n",
    "    a = L(t, X, N)\n",
    "\n",
    "    #Extract Index of support vectors from (7.14) \n",
    "    S = []\n",
    "    for n in range(len(a)):\n",
    "        if a[n] < 0.0001: continue\n",
    "        S.append(n)\n",
    "\n",
    "    #(7.18)\n",
    "    b = b(a, t, X, S)\n",
    "\n",
    "    \n",
    "    #Plot train data sets\n",
    "    plt.scatter(x_blue,y_blue,color='b',marker='x')\n",
    "    plt.scatter(x_red,y_red,color='r',marker='x')\n",
    "    \n",
    "    # Enphasize suport vectors\n",
    "    for n in S:\n",
    "        plt.scatter(X[n,0], X[n,1], color='g', marker='o')\n",
    "    \n",
    "    # Plot the decision surface\n",
    "    X1, X2 = meshgrid(linspace(-10,10,100), linspace(-10,10,100))\n",
    "    w, h = X1.shape\n",
    "    X1.resize(X1.size)\n",
    "    X2.resize(X2.size)\n",
    "    Z = array([y_x(a, t, X, N, b, array([x1,x2])) for (x1, x2) in zip(X1, X2)])\n",
    "    X1.resize((w, h))\n",
    "    X2.resize((w, h))\n",
    "    Z.resize((w, h))\n",
    "    CS = contour(X1, X2, Z, [0.0], colors='k', linewidths=1, origin='lower')\n",
    "    xlim(0, 4)\n",
    "    ylim(-2, 2)\n",
    "    title(\"Figure 7.2\")"
   ]
  },
  {
   "cell_type": "markdown",
   "metadata": {
    "collapsed": true
   },
   "source": [
    "### References"
   ]
  },
  {
   "cell_type": "markdown",
   "metadata": {
    "collapsed": true
   },
   "source": [
    "Christopher Bishop. (2007). Pattern Recognition and Machine Learning (Information Science and Statistics). Springer"
   ]
  },
  {
   "cell_type": "code",
   "execution_count": null,
   "metadata": {
    "collapsed": true
   },
   "outputs": [],
   "source": []
  }
 ],
 "metadata": {
  "kernelspec": {
   "display_name": "Python 2",
   "language": "python",
   "name": "python2"
  },
  "language_info": {
   "codemirror_mode": {
    "name": "ipython",
    "version": 2
   },
   "file_extension": ".py",
   "mimetype": "text/x-python",
   "name": "python",
   "nbconvert_exporter": "python",
   "pygments_lexer": "ipython2",
   "version": "2.7.10"
  }
 },
 "nbformat": 4,
 "nbformat_minor": 0
}
