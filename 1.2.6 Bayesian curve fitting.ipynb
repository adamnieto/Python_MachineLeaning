{
 "cells": [
  {
   "cell_type": "markdown",
   "metadata": {},
   "source": [
    "## PRML 1.2 Bayesian curve fitting"
   ]
  },
  {
   "cell_type": "markdown",
   "metadata": {},
   "source": [
    "###Overview\n",
    "The predictive distribution resulting from a Baysian treatment of polynominal curve fittting using an $M = 9$ polynominal, with the fixed parameters $\\alpha = 5×10^{-3}$ and $\\beta = 11.1$ (Corresponding to known noise variance), in which the red curve denotes the mean of the predictive distribution and the red region corresponds to $±1$ standard deviation around the mean."
   ]
  },
  {
   "cell_type": "markdown",
   "metadata": {},
   "source": [
    "###Procedure"
   ]
  },
  {
   "cell_type": "markdown",
   "metadata": {},
   "source": [
    "①The predictive distribution tis written in the form\n",
    "\\begin{equation*}\n",
    " p(t| x, {\\bf x}, {\\bf t}) = N(t| m(x), s^2(x)) (1.69).\n",
    "\\end{equation*}\n",
    "\n",
    "②The basis function is defined as $\\phi_i(x) = x^i$ for $i = 0,...M$.\n",
    "\n",
    "③The mean and variance are given by\n",
    "\n",
    "\\begin{equation*}m(x) = \\beta\\phi(x)^{\\bf T}{\\bf S} \\sum_{n=1}^N \\phi(x_n)t_n(1.70)\\end{equation*}\n",
    "\n",
    "\\begin{equation*} s^2(x) = \\beta^{-1} + \\phi(x)^{\\bf T} {\\bf S} \\phi(x)(1.71)\\end{equation*}\n",
    "\n",
    "\\begin{equation*}{\\bf S}^{-1} = \\alpha {\\bf I} + \\beta \\sum_{n=1}^N \\phi(x_n)\\phi(x_n)^{\\bf T}(1.72)\\end{equation*}\n",
    "\n",
    "④Inprement these equation and visualize the predictive distribution in the raneg of $0.0<x<1.0$."
   ]
  },
  {
   "cell_type": "code",
   "execution_count": 1,
   "metadata": {
    "collapsed": false
   },
   "outputs": [],
   "source": [
    "import numpy as np\n",
    "from numpy.linalg import inv\n",
    "import pandas as pd\n",
    "from pylab import *\n",
    "import matplotlib.pyplot as plt\n",
    "%matplotlib inline"
   ]
  },
  {
   "cell_type": "code",
   "execution_count": 2,
   "metadata": {
    "collapsed": false
   },
   "outputs": [],
   "source": [
    "#From p31 the auther define phi as following\n",
    "def phi(x):\n",
    "    return np.array([x**i for i in xrange(M+1)]).reshape((M+1, 1))\n",
    "\n",
    "#(1.70) Mean of predictive distribution\n",
    "def m(x, x_train, y_train, S):\n",
    "    sum = np.array(zeros((M+1, 1)))\n",
    "    for n in xrange(len(x_train)):\n",
    "        sum += np.dot(phi(x_train[n]), y_train[n])\n",
    "    return Beta * phi(x).T.dot(S).dot(sum)\n",
    "    \n",
    "#(1.71) Variance of predictive distribution   \n",
    "def s2(x, S):\n",
    "    return 1.0/Beta + phi(x).T.dot(S).dot(phi(x))\n",
    "\n",
    "#(1.72)\n",
    "def S(x_train, y_train):\n",
    "    I = np.identity(M+1)\n",
    "    Sigma = np.zeros((M+1, M+1))\n",
    "    for n in range(len(x_train)):\n",
    "        Sigma += np.dot(phi(x_train[n]), phi(x_train[n]).T)\n",
    "    S_inv = alpha*I + Beta*Sigma\n",
    "    S = inv(S_inv)\n",
    "    return S"
   ]
  },
  {
   "cell_type": "code",
   "execution_count": 3,
   "metadata": {
    "collapsed": false
   },
   "outputs": [
    {
     "data": {
      "image/png": "[encoded data removed]",
      "text/plain": [
       "<matplotlib.figure.Figure at 0x11100da90>"
      ]
     },
     "metadata": {},
     "output_type": "display_data"
    }
   ],
   "source": [
    "if __name__ == \"__main__\":\n",
    "    alpha = 0.005\n",
    "    Beta = 11.1\n",
    "    M = 9\n",
    "    \n",
    "    #Sine curve\n",
    "    x_real = np.arange(0, 1, 0.01)\n",
    "    y_real = np.sin(2*np.pi*x_real)\n",
    "    \n",
    "    ##Training Data\n",
    "    N=10\n",
    "    x_train = np.linspace(0, 1, 10)\n",
    "    \n",
    "    #Set \"small level of random noise having a Gaussian distribution\"\n",
    "    loc = 0\n",
    "    scale = 0.3\n",
    "    y_train =  np.sin(2*np.pi*x_train) + np.random.normal(loc,scale,N)\n",
    "    \n",
    "    \n",
    "    S = S(x_train, y_train)\n",
    "    \n",
    "    #Seek predictive distribution corespponding to entire x\n",
    "    mean = [m(x, x_train, y_train, S)[0,0] for x in x_real]\n",
    "    variance = [s2(x, S)[0,0] for x in x_real]\n",
    "    SD = np.sqrt(variance)\n",
    "    upper = mean + SD\n",
    "    lower = mean - SD\n",
    "    \n",
    "    \n",
    "    plot(x_train, y_train, 'bo')\n",
    "    plot(x_real, y_real, 'g-')\n",
    "    plot(x_real, mean, 'r-')\n",
    "    fill_between(x_real, upper, lower, color='pink')\n",
    "    xlim(0.0, 1.0)\n",
    "    ylim(-2, 2)\n",
    "    title(\"Figure 1.17\")"
   ]
  },
  {
   "cell_type": "markdown",
   "metadata": {
    "collapsed": true
   },
   "source": [
    "###References"
   ]
  },
  {
   "cell_type": "markdown",
   "metadata": {},
   "source": [
    "Christopher Bishop. (2007). Pattern Recognition and Machine Learning (Information Science and Statistics). Springer"
   ]
  }
 ],
 "metadata": {
  "kernelspec": {
   "display_name": "Python 2",
   "language": "python",
   "name": "python2"
  },
  "language_info": {
   "codemirror_mode": {
    "name": "ipython",
    "version": 2
   },
   "file_extension": ".py",
   "mimetype": "text/x-python",
   "name": "python",
   "nbconvert_exporter": "python",
   "pygments_lexer": "ipython2",
   "version": "2.7.10"
  }
 },
 "nbformat": 4,
 "nbformat_minor": 0
}
