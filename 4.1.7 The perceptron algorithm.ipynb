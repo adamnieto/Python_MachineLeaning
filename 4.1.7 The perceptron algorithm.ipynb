{
 "cells": [
  {
   "cell_type": "markdown",
   "metadata": {},
   "source": [
    "## PRML 4.1.7 The perceptron algorithm"
   ]
  },
  {
   "cell_type": "markdown",
   "metadata": {},
   "source": [
    "###Overview\n",
    "Figure 4.7 is illustration of the convergance of the perceptron learning algorithm, showing data points from two classes in a two-dimensional feature space($\\phi_1, \\phi_2$).The top left plot shows the initial parameter vector ${\\bf w}$ shown as a black arrow together with the corresponding decision boundary and the bottom right plot for which all data points are correctly classified."
   ]
  },
  {
   "cell_type": "markdown",
   "metadata": {},
   "source": [
    "###Procedure"
   ]
  },
  {
   "cell_type": "markdown",
   "metadata": {},
   "source": [
    "①The formula of hyperplane is (4.52).\n",
    "\n",
    "\\begin{equation*}\n",
    "  y({\\bf x}) = f ({\\bf x}^{\\bf T} \\phi({\\bf x}))  (4.52)\n",
    "\\end{equation*}\n",
    "\n",
    "②Weight vector $w$ which minimize error function (4.54) is seeked with the stochastic gradient descent algorithm (4.55) until all data is classfied appropreately.\n",
    "\n",
    "\\begin{equation*}\n",
    "  E_p({\\bf w}) = -\\sum_{n=1}^N {\\bf w}^{\\bf T} \\phi({\\bf x}_n){\\bf t}_n  (4.54)\n",
    "\\end{equation*}\n",
    "\n",
    "\\begin{equation*}\n",
    "{\\bf w}^{\\rm \\tau+1} = {\\bf w}^{\\rm \\tau} - \\mu \\nabla  E_p({\\bf{w}}) = {\\bf w}^{\\rm \\tau}-  \\mu \\phi({\\bf x}_n) {\\bf t}_n   (4.55)\n",
    "\\end{equation*}"
   ]
  },
  {
   "cell_type": "code",
   "execution_count": 1,
   "metadata": {
    "collapsed": true
   },
   "outputs": [],
   "source": [
    "import matplotlib.pyplot as plt\n",
    "from pylab import *\n",
    "import numpy as np\n",
    "import random\n",
    "%matplotlib inline"
   ]
  },
  {
   "cell_type": "code",
   "execution_count": 2,
   "metadata": {
    "collapsed": true
   },
   "outputs": [],
   "source": [
    "def func(train_data, k):\n",
    "    def perceptron(train_data, k):\n",
    "        x = 0\n",
    "        w = array([1.0,1.0, 1.0])\n",
    "        eta = 0.1\n",
    "        converged = False\n",
    "    \n",
    "        while not converged:\n",
    "            x += 1\n",
    "            if x == k:\n",
    "                converged = True\n",
    "                \n",
    "            for i in range(N):\n",
    "                w_t_phi_x = np.dot(w, [1,train_data[i,0], train_data[i,1]])\n",
    "                \n",
    "                if w_t_phi_x > 0:\n",
    "                    d = 1\n",
    "                else:\n",
    "                    d = 2\n",
    "             \n",
    "                if d == train_data[i,2]:\n",
    "                    continue\n",
    "                else:\n",
    "                    if d == 1:\n",
    "                        t = 1\n",
    "                        w += -eta * array([1, train_data[i,0], train_data[i,1]]) * t\n",
    "                    else:\n",
    "                        t = -1\n",
    "                        w += -eta * array([1, train_data[i,0], train_data[i,1]]) * t\n",
    "        return w\n",
    "    \n",
    "    w = perceptron(train_data, k)\n",
    "\n",
    "    #Plot\n",
    "    plt.scatter(x_red,y_red,color='r',marker='x')\n",
    "    plt.scatter(x_blue,y_blue,color='b',marker='x')\n",
    "    x_line = linspace(-1.0, 1.0, 1000)\n",
    "    y_line = -w[1]/w[2] * x_line - w[0]/w[2]\n",
    "    plt.plot(x_line, y_line, 'k')\n",
    "    xlim(-1.0, 1.0)\n",
    "    ylim(-1.0, 1.0)\n",
    "    title(\"Figure 4.7\")\n",
    "    show()"
   ]
  },
  {
   "cell_type": "code",
   "execution_count": 3,
   "metadata": {
    "collapsed": false,
    "scrolled": false
   },
   "outputs": [
    {
     "data": {
      "image/png": "[encoded data removed]",
      "text/plain": [
       "<matplotlib.figure.Figure at 0x10541e9d0>"
      ]
     },
     "metadata": {},
     "output_type": "display_data"
    },
    {
     "data": {
      "image/png": "[encoded data removed]",
      "text/plain": [
       "<matplotlib.figure.Figure at 0x10550a650>"
      ]
     },
     "metadata": {},
     "output_type": "display_data"
    },
    {
     "data": {
      "image/png": "[encoded data removed]",
      "text/plain": [
       "<matplotlib.figure.Figure at 0x10555c050>"
      ]
     },
     "metadata": {},
     "output_type": "display_data"
    },
    {
     "data": {
      "image/png": "[encoded data removed]",
      "text/plain": [
       "<matplotlib.figure.Figure at 0x1057b8b90>"
      ]
     },
     "metadata": {},
     "output_type": "display_data"
    }
   ],
   "source": [
    "if __name__ == \"__main__\":\n",
    "    #Generate sumple data\n",
    "    #Mean\n",
    "    mu_blue = [-0.5,0.3]\n",
    "    mu_red = [0.5,-0.3]\n",
    "    #Covariance\n",
    "    cov = [[0.08,0.06], [0.06,0.08]]\n",
    "\n",
    "    #Data Blue\n",
    "    x_blue = [-0.85, -0.8, -0.5, -0.4, -0.1]\n",
    "    y_blue = [0.6,0.95, 0.62, 0.7, -0.1]\n",
    "    blue_label = np.ones(5)\n",
    "\n",
    "    #Data Red\n",
    "    x_red = [0.2, 0.4, 0.45, 0.6, 0.95]\n",
    "    y_red = [0.7, -0.5, 0.4, -0.9, 0.97]\n",
    "    red_label = np.ones(5)*2\n",
    "\n",
    "    Data_blue = vstack((x_blue, y_blue, blue_label)).T\n",
    "    Data_red = vstack((x_red, y_red, red_label)).T\n",
    "    Data_marge = vstack((Data_blue,Data_red))\n",
    "    \n",
    "    N = len(Data_marge)\n",
    "    for k in (N-9, N-6, N-3, N):\n",
    "        func(Data_marge, k)"
   ]
  },
  {
   "cell_type": "markdown",
   "metadata": {
    "collapsed": true
   },
   "source": [
    "###References"
   ]
  },
  {
   "cell_type": "markdown",
   "metadata": {
    "collapsed": true
   },
   "source": [
    "Christopher Bishop. (2007). Pattern Recognition and Machine Learning (Information Science and Statistics). Springer"
   ]
  },
  {
   "cell_type": "code",
   "execution_count": null,
   "metadata": {
    "collapsed": true
   },
   "outputs": [],
   "source": []
  }
 ],
 "metadata": {
  "kernelspec": {
   "display_name": "Python 2",
   "language": "python",
   "name": "python2"
  },
  "language_info": {
   "codemirror_mode": {
    "name": "ipython",
    "version": 2
   },
   "file_extension": ".py",
   "mimetype": "text/x-python",
   "name": "python",
   "nbconvert_exporter": "python",
   "pygments_lexer": "ipython2",
   "version": "2.7.10"
  }
 },
 "nbformat": 4,
 "nbformat_minor": 0
}
